{
  "nbformat": 4,
  "nbformat_minor": 0,
  "metadata": {
    "colab": {
      "name": "Untitled8.ipynb",
      "version": "0.3.2",
      "provenance": [],
      "collapsed_sections": []
    },
    "kernelspec": {
      "name": "python3",
      "display_name": "Python 3"
    }
  },
  "cells": [
    {
      "metadata": {
        "id": "ChU2ywYrJlm7",
        "colab_type": "code",
        "outputId": "b49d3d8f-0496-47ad-d0e1-24aee97390b9",
        "colab": {
          "base_uri": "https://localhost:8080/",
          "height": 138
        }
      },
      "cell_type": "code",
      "source": [
        "import numpy as np\n",
        "import pandas as pd\n",
        "import os\n",
        "from sklearn.preprocessing import MinMaxScaler\n",
        "import keras# .preprocessing.sequence import TimeseriesGenerator\n",
        "from google.colab import drive\n",
        "drive.mount('/content/gdrive')\n",
        "import matplotlib.pyplot as plt"
      ],
      "execution_count": 1,
      "outputs": [
        {
          "output_type": "stream",
          "text": [
            "Using TensorFlow backend.\n"
          ],
          "name": "stderr"
        },
        {
          "output_type": "stream",
          "text": [
            "Go to this URL in a browser: https://accounts.google.com/o/oauth2/auth?client_id=947318989803-6bn6qk8qdgf4n4g3pfee6491hc0brc4i.apps.googleusercontent.com&redirect_uri=urn%3Aietf%3Awg%3Aoauth%3A2.0%3Aoob&scope=email%20https%3A%2F%2Fwww.googleapis.com%2Fauth%2Fdocs.test%20https%3A%2F%2Fwww.googleapis.com%2Fauth%2Fdrive%20https%3A%2F%2Fwww.googleapis.com%2Fauth%2Fdrive.photos.readonly%20https%3A%2F%2Fwww.googleapis.com%2Fauth%2Fpeopleapi.readonly&response_type=code\n",
            "\n",
            "Enter your authorization code:\n",
            "··········\n",
            "Mounted at /content/gdrive\n"
          ],
          "name": "stdout"
        }
      ]
    },
    {
      "metadata": {
        "id": "6nO3Dplhd2no",
        "colab_type": "code",
        "colab": {}
      },
      "cell_type": "code",
      "source": [
        "file_path = './gdrive/My Drive/sp500.csv'\n",
        "validation_percent = 10\n",
        "test_percent = 10\n",
        "test_length=None\n",
        "validation_length=None\n",
        "batch_size = 32\n",
        "stride=1\n",
        "sampling_rate = 1\n",
        "length=60"
      ],
      "execution_count": 0,
      "outputs": []
    },
    {
      "metadata": {
        "id": "2Dp7dWiMZIGz",
        "colab_type": "code",
        "colab": {}
      },
      "cell_type": "code",
      "source": [
        "class SP500Dataset:\n",
        "\n",
        "    def __init__(self, train=None, valid=None, test=None):\n",
        "        \"\"\"\n",
        "        S&P500 data split into train, validation and test datasets loaded using load_data method        \n",
        "        \"\"\"\n",
        "        assert train is not None, 'CSV file not loaded, use load_data method first'\n",
        "        \n",
        "        self.train = train\n",
        "        self.valid = valid\n",
        "        self.test = test\n",
        "        self.scalers = {}\n",
        "        self.scaler_feature_range = (10**-7, 1)\n",
        "        self.generator = {}\n",
        "        self.stock_merged_start_index = {}\n",
        "    def get_generator(self, dataset_type='train', stocks=None, merged=False, batch_size = 32, stride = 1, sampling_rate = 1, seq_length = 60):\n",
        "        \"\"\"\n",
        "        This function creates generators to be used with the model.fit_generator\n",
        "        method of keras's Models. The data is normalized to be between 0 and 1.\n",
        "\n",
        "        Parameters\n",
        "        ----------\n",
        "        For explanation of input parameters consult keras documentation:\n",
        "        https://keras.io/preprocessing/sequence/\n",
        "\n",
        "        Returns\n",
        "        -------\n",
        "        dict\n",
        "            Returns a dictionary of generators whose keys are the stocks\n",
        "            that the generator corresponds to.        \n",
        "        \"\"\"        \n",
        "        assert dataset_type.lower() in ['train', 'valid', 'test'], 'Invalid dataset_type: should be one of [train, test, valid]'\n",
        "        dataset = self.__getattribute__(dataset_type.lower())\n",
        "        if not stocks:\n",
        "            stocks = list(dataset.columns.unique().levels[0])\n",
        "        if merged:\n",
        "            allstock = []\n",
        "            for stock in stocks:\n",
        "                self.scalers[stock] = MinMaxScaler(feature_range = self.scaler_feature_range).fit(dataset[stock])\n",
        "                data = self.scalers[stock].transform(dataset[stock])\n",
        "                self.stock_merged_start_index[stock] = len(allstock)\n",
        "                \n",
        "        generator = {}\n",
        "        for stock in stocks:\n",
        "            self.scalers[stock] = MinMaxScaler(feature_range = self.scaler_feature_range).fit(dataset[stock])\n",
        "            data = self.scalers[stock].transform(dataset[stock])\n",
        "            generator[stock] = keras.preprocessing.sequence.TimeseriesGenerator(data, data, length=seq_length, sampling_rate=sampling_rate, stride=stride, batch_size=batch_size)\n",
        "        self.generator[dataset_type] = generator\n",
        "        return generator\n",
        "    \n",
        "    \n",
        "    def get_real_data(self, norm_data=None, stock=None):\n",
        "        \"\"\"\n",
        "        Convert normalized data for a stock into real data\n",
        "        \n",
        "        Parameters\n",
        "        ----------\n",
        "        norm_data : list\n",
        "            list of data features\n",
        "        stock : str\n",
        "            stock name\n",
        "            \n",
        "        Returns: list\n",
        "            List of data \n",
        "            \n",
        "        \"\"\"\n",
        "        return self.scalers[stock.upper()].inverse_transform(norm_data)\n",
        "        \n",
        "    \n",
        "    @staticmethod\n",
        "    def load_data(filepath=None, validation_size=None, test_size=None, validation_percent = 10, test_percent = 10, interpolation_method='linear'):\n",
        "        \"\"\"\n",
        "        Load dataset csv file into pandas DataFrame and split it into train, valid and test datasets\n",
        "        \n",
        "        Parameters\n",
        "        ----------\n",
        "        filepath : str\n",
        "        validation_size : int\n",
        "        test_size : int\n",
        "        validation_percent :float\n",
        "        test_percent : float\n",
        "        interpolation_method : str\n",
        "        \n",
        "        Return \n",
        "        ------\n",
        "        SP500Dataset object\n",
        "        \n",
        "        \"\"\"\n",
        "        dataset = pd.read_csv(file_path, index_col=0, header=[0, 1], infer_datetime_format=True, parse_dates=True).sort_index(axis=1)\n",
        "        if interpolation_method=='time':\n",
        "            dataset.index = pd.DatetimeIndex(dataset.index)\n",
        "        dataset = dataset.interpolate(method=interpolation_method, limit_direction='both')\n",
        "        \n",
        "        if not validation_size:\n",
        "            validation_size = int(dataset.shape[0]*validation_percent//100)\n",
        "        if not test_size:\n",
        "            test_size = int(dataset.shape[0]*test_percent//100)\n",
        "            \n",
        "        train_end = dataset.shape[0] - (validation_size + test_size)\n",
        "        validation_end = train_end + validation_size \n",
        "        train = dataset[ : train_end]\n",
        "        valid = dataset[train_end : validation_end]\n",
        "        test = dataset[validation_end : ]\n",
        "        del dataset\n",
        "        return SP500Dataset(train=train,valid=valid,test=test)        "
      ],
      "execution_count": 0,
      "outputs": []
    },
    {
      "metadata": {
        "id": "5e22qzaw1qx5",
        "colab_type": "code",
        "colab": {}
      },
      "cell_type": "code",
      "source": [
        "#statics\n",
        "seq_len = 60\n",
        "features = 5"
      ],
      "execution_count": 0,
      "outputs": []
    },
    {
      "metadata": {
        "id": "BU6rHeBhs0xB",
        "colab_type": "code",
        "colab": {}
      },
      "cell_type": "code",
      "source": [
        "# single stock dataset\n",
        "ds = SP500Dataset.load_data( filepath=file_path)\n",
        "tr_stock_A_gen = ds.get_generator(stocks=['A'], dataset_type='train')\n",
        "va_stock_A_gen = ds.get_generator(stocks=['A'], dataset_type='valid')\n",
        "ts_stock_A_gen = ds.get_generator(stocks=['A'], dataset_type='test')\n",
        "\n",
        "#model\n",
        "model = keras.models.Sequential()\n",
        "model.add(keras.layers.LSTM( units=50, input_shape = (seq_len, features), return_sequences=True))\n",
        "model.add(keras.layers.LSTM( units=100 , return_sequences=False ))\n",
        "model.add( keras.layers.Dense(units=5, activation='linear') )\n",
        "model.compile(loss='mean_squared_error',\n",
        "              optimizer='adam',\n",
        "              metrics=['mean_squared_error'])\n",
        "\n"
      ],
      "execution_count": 0,
      "outputs": []
    },
    {
      "metadata": {
        "id": "3d_0G8kTFFo7",
        "colab_type": "code",
        "colab": {
          "base_uri": "https://localhost:8080/",
          "height": 823
        },
        "outputId": "fe724dff-ec87-477e-928d-ea72f10a0fc3"
      },
      "cell_type": "code",
      "source": [
        "### Train model ###\n",
        "initial_epoch = 0\n",
        "callback_list = [\n",
        "    keras.callbacks.EarlyStopping(monitor='val_loss', patience=5),\n",
        "    keras.callbacks.ModelCheckpoint('./sp500_ckpt/model.{epoch:02d}-{val_loss:.2f}.hdf5', save_best_only=True),\n",
        "    keras.callbacks.TensorBoard(log_dir='./sp500_ckpt/tb_summary'),\n",
        "]\n",
        "\n",
        "hist = model.fit_generator(generator=tr_stock_A_gen['A'],\n",
        "                    validation_data=va_stock_A_gen['A'],\n",
        "                    epochs=100,\n",
        "                    initial_epoch=initial_epoch,\n",
        "                    verbose=1, callbacks=callback_list)"
      ],
      "execution_count": 38,
      "outputs": [
        {
          "output_type": "stream",
          "text": [
            "Epoch 1/1000\n",
            "1077/1077 [==============================] - 120s 111ms/step - loss: 0.0016 - mean_squared_error: 0.0016 - val_loss: 9.6401e-04 - val_mean_squared_error: 9.6401e-04\n",
            "Epoch 2/1000\n",
            "1077/1077 [==============================] - 119s 110ms/step - loss: 4.5374e-04 - mean_squared_error: 4.5374e-04 - val_loss: 5.8138e-04 - val_mean_squared_error: 5.8138e-04\n",
            "Epoch 3/1000\n",
            "1077/1077 [==============================] - 119s 110ms/step - loss: 4.4105e-04 - mean_squared_error: 4.4105e-04 - val_loss: 5.0076e-04 - val_mean_squared_error: 5.0076e-04\n",
            "Epoch 4/1000\n",
            "1077/1077 [==============================] - 119s 110ms/step - loss: 2.0747e-04 - mean_squared_error: 2.0747e-04 - val_loss: 4.5387e-04 - val_mean_squared_error: 4.5387e-04\n",
            "Epoch 5/1000\n",
            "1077/1077 [==============================] - 118s 110ms/step - loss: 2.1783e-04 - mean_squared_error: 2.1783e-04 - val_loss: 5.1139e-04 - val_mean_squared_error: 5.1139e-04\n",
            "Epoch 6/1000\n",
            "1077/1077 [==============================] - 118s 110ms/step - loss: 2.5741e-04 - mean_squared_error: 2.5741e-04 - val_loss: 3.9497e-04 - val_mean_squared_error: 3.9497e-04\n",
            "Epoch 7/1000\n",
            "1077/1077 [==============================] - 119s 110ms/step - loss: 1.8004e-04 - mean_squared_error: 1.8004e-04 - val_loss: 3.5220e-04 - val_mean_squared_error: 3.5220e-04\n",
            "Epoch 8/1000\n",
            "1077/1077 [==============================] - 118s 110ms/step - loss: 1.8270e-04 - mean_squared_error: 1.8270e-04 - val_loss: 3.1179e-04 - val_mean_squared_error: 3.1179e-04\n",
            "Epoch 9/1000\n",
            "1077/1077 [==============================] - 118s 110ms/step - loss: 1.8621e-04 - mean_squared_error: 1.8621e-04 - val_loss: 3.3078e-04 - val_mean_squared_error: 3.3078e-04\n",
            "Epoch 10/1000\n",
            "1077/1077 [==============================] - 119s 110ms/step - loss: 1.5823e-04 - mean_squared_error: 1.5823e-04 - val_loss: 2.7383e-04 - val_mean_squared_error: 2.7383e-04\n",
            "Epoch 11/1000\n",
            "1077/1077 [==============================] - 119s 110ms/step - loss: 1.6170e-04 - mean_squared_error: 1.6170e-04 - val_loss: 3.2335e-04 - val_mean_squared_error: 3.2335e-04\n",
            "Epoch 12/1000\n",
            "1077/1077 [==============================] - 119s 110ms/step - loss: 1.6585e-04 - mean_squared_error: 1.6585e-04 - val_loss: 3.1860e-04 - val_mean_squared_error: 3.1860e-04\n",
            "Epoch 13/1000\n",
            "1077/1077 [==============================] - 118s 110ms/step - loss: 1.4655e-04 - mean_squared_error: 1.4655e-04 - val_loss: 2.4839e-04 - val_mean_squared_error: 2.4839e-04\n",
            "Epoch 14/1000\n",
            "1077/1077 [==============================] - 118s 110ms/step - loss: 2.1304e-04 - mean_squared_error: 2.1304e-04 - val_loss: 3.7953e-04 - val_mean_squared_error: 3.7953e-04\n",
            "Epoch 15/1000\n",
            "1077/1077 [==============================] - 119s 110ms/step - loss: 1.2125e-04 - mean_squared_error: 1.2125e-04 - val_loss: 2.2614e-04 - val_mean_squared_error: 2.2614e-04\n",
            "Epoch 16/1000\n",
            "1077/1077 [==============================] - 118s 110ms/step - loss: 1.4778e-04 - mean_squared_error: 1.4778e-04 - val_loss: 2.1966e-04 - val_mean_squared_error: 2.1966e-04\n",
            "Epoch 17/1000\n",
            "1077/1077 [==============================] - 118s 110ms/step - loss: 1.3824e-04 - mean_squared_error: 1.3824e-04 - val_loss: 2.2473e-04 - val_mean_squared_error: 2.2473e-04\n",
            "Epoch 18/1000\n",
            "1077/1077 [==============================] - 119s 110ms/step - loss: 1.3250e-04 - mean_squared_error: 1.3250e-04 - val_loss: 3.0080e-04 - val_mean_squared_error: 3.0080e-04\n",
            "Epoch 19/1000\n",
            "1077/1077 [==============================] - 118s 110ms/step - loss: 1.3968e-04 - mean_squared_error: 1.3968e-04 - val_loss: 2.1560e-04 - val_mean_squared_error: 2.1560e-04\n",
            "Epoch 20/1000\n",
            "1077/1077 [==============================] - 119s 110ms/step - loss: 1.4561e-04 - mean_squared_error: 1.4561e-04 - val_loss: 2.1726e-04 - val_mean_squared_error: 2.1726e-04\n",
            "Epoch 21/1000\n",
            "1077/1077 [==============================] - 118s 110ms/step - loss: 1.2940e-04 - mean_squared_error: 1.2940e-04 - val_loss: 2.2202e-04 - val_mean_squared_error: 2.2202e-04\n",
            "Epoch 22/1000\n",
            "1077/1077 [==============================] - 118s 110ms/step - loss: 1.3239e-04 - mean_squared_error: 1.3239e-04 - val_loss: 2.2124e-04 - val_mean_squared_error: 2.2124e-04\n",
            "Epoch 23/1000\n",
            "1077/1077 [==============================] - 119s 110ms/step - loss: 1.4461e-04 - mean_squared_error: 1.4461e-04 - val_loss: 2.5760e-04 - val_mean_squared_error: 2.5760e-04\n",
            "Epoch 24/1000\n",
            "1077/1077 [==============================] - 118s 110ms/step - loss: 1.3816e-04 - mean_squared_error: 1.3816e-04 - val_loss: 3.0950e-04 - val_mean_squared_error: 3.0950e-04\n"
          ],
          "name": "stdout"
        }
      ]
    },
    {
      "metadata": {
        "id": "CbcZM_1HYOsq",
        "colab_type": "code",
        "colab": {}
      },
      "cell_type": "code",
      "source": [
        "!cp -r sp500_ckpt ./gdrive/My\\ Drive/sp500_A_ckpt"
      ],
      "execution_count": 0,
      "outputs": []
    },
    {
      "metadata": {
        "id": "OKD_dMqcUAPE",
        "colab_type": "code",
        "colab": {}
      },
      "cell_type": "code",
      "source": [
        "best_model = keras.models.load_model('./gdrive/My Drive/sp500_A_ckpt/model.19-0.00.hdf5')"
      ],
      "execution_count": 0,
      "outputs": []
    },
    {
      "metadata": {
        "id": "X518aL6gUA3V",
        "colab_type": "code",
        "colab": {
          "base_uri": "https://localhost:8080/",
          "height": 34
        },
        "outputId": "395f7566-5683-490a-f704-83d165c26087"
      },
      "cell_type": "code",
      "source": [
        "model.evaluate_generator( ts_stock_A_gen['A'], )"
      ],
      "execution_count": 53,
      "outputs": [
        {
          "output_type": "execute_result",
          "data": {
            "text/plain": [
              "[0.0009014745332435523, 0.0009014745332435523]"
            ]
          },
          "metadata": {
            "tags": []
          },
          "execution_count": 53
        }
      ]
    },
    {
      "metadata": {
        "id": "aWxIMedjWKSH",
        "colab_type": "code",
        "colab": {
          "base_uri": "https://localhost:8080/",
          "height": 34
        },
        "outputId": "c3af24c4-32fa-4101-d84f-467d1374c43b"
      },
      "cell_type": "code",
      "source": [
        "best_model.evaluate_generator( ts_stock_A_gen['A'], )"
      ],
      "execution_count": 13,
      "outputs": [
        {
          "output_type": "execute_result",
          "data": {
            "text/plain": [
              "[0.0008569695777949392, 0.0008569695777949392]"
            ]
          },
          "metadata": {
            "tags": []
          },
          "execution_count": 13
        }
      ]
    },
    {
      "metadata": {
        "id": "sv5CQc25Ua0v",
        "colab_type": "code",
        "colab": {}
      },
      "cell_type": "code",
      "source": [
        "predictions = best_model.predict_generator( ts_stock_A_gen['A'] )"
      ],
      "execution_count": 0,
      "outputs": []
    },
    {
      "metadata": {
        "id": "7Jyrrl4TXDZb",
        "colab_type": "code",
        "colab": {}
      },
      "cell_type": "code",
      "source": [
        "pred = pd.DataFrame( data = ds.get_real_data(predictions, 'A'), columns= ds.test['A'].columns )"
      ],
      "execution_count": 0,
      "outputs": []
    },
    {
      "metadata": {
        "id": "1hrJyM96ncTI",
        "colab_type": "code",
        "colab": {
          "base_uri": "https://localhost:8080/",
          "height": 347
        },
        "outputId": "66fd7778-eb4e-4aa8-94e5-b2dd65e2e6f0"
      },
      "cell_type": "code",
      "source": [
        "actual = ds.test['A'][60:]\n",
        "actual.reset_index(drop=True, inplace=True)\n",
        "plt.plot(pred['open'], label='actual')\n",
        "plt.plot(actual['open'], label='actual')\n",
        "plt.legend()\n",
        "#plt.savefig('./gdrive/My Drive/sp500_A_ckpt/A_plot.png', format='png', )\n",
        "plt.show()"
      ],
      "execution_count": 63,
      "outputs": [
        {
          "output_type": "display_data",
          "data": {
            "image/png": "[encoded data removed]",
            "text/plain": [
              "<matplotlib.figure.Figure at 0x7fc7a099fe10>"
            ]
          },
          "metadata": {
            "tags": []
          }
        }
      ]
    },
    {
      "metadata": {
        "id": "Rs-PuBqyU3Z5",
        "colab_type": "code",
        "colab": {
          "base_uri": "https://localhost:8080/",
          "height": 84
        },
        "outputId": "f72ce6f6-5adb-4e30-c24c-c490c65305a0"
      },
      "cell_type": "code",
      "source": [
        "!ls './gdrive/My Drive/sp500_A_ckpt/'"
      ],
      "execution_count": 47,
      "outputs": [
        {
          "output_type": "stream",
          "text": [
            "A_plot.png\t    model.04-0.00.hdf5\tmodel.10-0.00.hdf5  model.19-0.00.hdf5\n",
            "model.01-0.00.hdf5  model.06-0.00.hdf5\tmodel.13-0.00.hdf5  tb_summary\n",
            "model.02-0.00.hdf5  model.07-0.00.hdf5\tmodel.15-0.00.hdf5\n",
            "model.03-0.00.hdf5  model.08-0.00.hdf5\tmodel.16-0.00.hdf5\n"
          ],
          "name": "stdout"
        }
      ]
    },
    {
      "metadata": {
        "id": "Kr_xa3f41ZDm",
        "colab_type": "code",
        "colab": {}
      },
      "cell_type": "code",
      "source": [
        ""
      ],
      "execution_count": 0,
      "outputs": []
    }
  ]
}